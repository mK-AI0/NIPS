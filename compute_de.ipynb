{
 "cells": [
  {
   "cell_type": "code",
   "execution_count": null,
   "id": "77759971-e331-4a96-b1e0-37b148f1ea5f",
   "metadata": {
    "tags": []
   },
   "outputs": [],
   "source": [
    "import pandas as pd\n",
    "import numpy as np\n",
    "import sklearn\n",
    "import scipy\n",
    "\n",
    "import anndata as ad\n",
    "import scanpy as sc\n",
    "\n",
    "from dask import delayed\n",
    "from dask.distributed import Client, LocalCluster\n",
    "\n",
    "import os, binascii"
   ]
  },
  {
   "cell_type": "code",
   "execution_count": null,
   "id": "6f5f0ca3-c6f5-4b89-9501-a8f6964da587",
   "metadata": {},
   "outputs": [],
   "source": [
    "! aws s3 cp s3://saturn-kaggle-datasets/open-problems-single-cell-perturbations-optional/train_or_control_bulk_by_cell_type_adata.h5ad --no-sign-request .\n",
    "! aws s3 cp s3://saturn-kaggle-datasets/open-problems-single-cell-perturbations-optional/lincs_id_compound_mapping.parquet --no-sign-request ."
   ]
  },
  {
   "cell_type": "markdown",
   "id": "b9fa12aa-f694-4ddc-9efa-c16b7e4a587e",
   "metadata": {},
   "source": [
    "## Loading expression data"
   ]
  },
  {
   "cell_type": "markdown",
   "id": "7c8e5357-5182-4d2a-868c-f5d987c83bcd",
   "metadata": {},
   "source": [
    "Here we load expression data (long format) and converting it into an AnnData object (wide sparse format).\n",
    "\n",
    "You'll need to increase your instance RAM to at least 64 GB."
   ]
  },
  {
   "cell_type": "code",
   "execution_count": null,
   "id": "f26f2b47-9346-40a0-8152-e3995be811a1",
   "metadata": {
    "tags": []
   },
   "outputs": [],
   "source": [
    "data_dir = '/home/jovyan/kaggle/input/open-problems-single-cell-perturbations'\n",
    "adata_train_df = pd.read_parquet(os.path.join(data_dir, 'adata_train.parquet'))\n",
    "adata_obs_meta_df = pd.read_csv(os.path.join(data_dir, 'adata_obs_meta.csv'))\n",
    "\n",
    "adata_train_df['obs_id'] = adata_train_df['obs_id'].astype('category')\n",
    "adata_train_df['gene'] = adata_train_df['gene'].astype('category')\n",
    "\n",
    "obs_ids = adata_train_df['obs_id'].unique()\n",
    "obs_id_map = dict(zip(obs_ids, range(len(obs_ids))))\n",
    "\n",
    "genes = adata_train_df['gene'].unique()\n",
    "gene_map = dict(zip(genes, range(len(genes))))\n",
    "\n",
    "adata_train_df['obs_index'] = adata_train_df['obs_id'].map(obs_id_map)\n",
    "adata_train_df['gene_index'] = adata_train_df['gene'].map(gene_map)\n",
    "\n",
    "normalized_counts_values = adata_train_df['normalized_count'].to_numpy()\n",
    "counts_values = adata_train_df['count'].to_numpy()\n",
    "\n",
    "row_indices = adata_train_df['obs_index'].to_numpy()\n",
    "col_indices = adata_train_df['gene_index'].to_numpy()\n",
    "\n",
    "counts = scipy.sparse.csr_matrix((counts_values, (row_indices, col_indices)))\n",
    "\n",
    "obs_df = pd.Series(obs_ids, name='obs_id').to_frame()\n",
    "var_df = pd.Series(genes, name='gene').to_frame()\n",
    "\n",
    "obs_df = obs_df.set_index('obs_id')\n",
    "var_df = var_df.set_index('gene')\n",
    "\n",
    "obs_df.index = obs_df.index.astype('str')\n",
    "var_df.index = var_df.index.astype('str')\n",
    "\n",
    "counts_adata = ad.AnnData(\n",
    "    X=counts,\n",
    "    obs=obs_df,\n",
    "    var=var_df,\n",
    "    dtype=np.uint32,\n",
    ")\n",
    "\n",
    "index_ordering_before_join = counts_adata.obs.index\n",
    "counts_adata.obs = counts_adata.obs.join(adata_obs_meta_df.set_index('obs_id'))\n",
    "index_ordering_after_join = counts_adata.obs.index\n",
    "assert (index_ordering_before_join == index_ordering_after_join).all()"
   ]
  },
  {
   "cell_type": "markdown",
   "id": "db87f685-c183-4d5a-bc22-9185113f2222",
   "metadata": {
    "execution": {
     "iopub.execute_input": "2023-09-22T17:26:10.549113Z",
     "iopub.status.busy": "2023-09-22T17:26:10.548724Z",
     "iopub.status.idle": "2023-09-22T17:26:10.552111Z",
     "shell.execute_reply": "2023-09-22T17:26:10.551571Z",
     "shell.execute_reply.started": "2023-09-22T17:26:10.549088Z"
    },
    "tags": []
   },
   "source": [
    "## Pseudobulking counts by cell type"
   ]
  },
  {
   "cell_type": "code",
   "execution_count": null,
   "id": "2977f6ce-0354-45a2-9610-22aff6781dd1",
   "metadata": {
    "tags": []
   },
   "outputs": [],
   "source": [
    "from scipy import sparse\n",
    "\n",
    "def sum_by(adata: ad.AnnData, col: str) -> ad.AnnData:\n",
    "    \"\"\"\n",
    "    Adapted from this forum post: \n",
    "    https://discourse.scverse.org/t/group-sum-rows-based-on-jobs-feature/371/4\n",
    "    \"\"\"\n",
    "    \n",
    "    assert pd.api.types.is_categorical_dtype(adata.obs[col])\n",
    "\n",
    "    # sum `.X` entries for each unique value in `col`\n",
    "    cat = adata.obs[col].values\n",
    "    indicator = sparse.coo_matrix(\n",
    "        (\n",
    "            np.broadcast_to(True, adata.n_obs),\n",
    "            (cat.codes, np.arange(adata.n_obs))\n",
    "        ),\n",
    "        shape=(len(cat.categories), adata.n_obs),\n",
    "    )\n",
    "    sum_adata = ad.AnnData(\n",
    "        indicator @ adata.X,\n",
    "        var=adata.var,\n",
    "        obs=pd.DataFrame(index=cat.categories),\n",
    "        dtype=adata.X.dtype,\n",
    "    )\n",
    "    \n",
    "    # copy over `.obs` values that have a one-to-one-mapping with `.obs[col]`\n",
    "    obs_cols = adata.obs.columns\n",
    "    obs_cols = list(set(adata.obs.columns) - set([col]))\n",
    "    \n",
    "    one_to_one_mapped_obs_cols = []\n",
    "    nunique_in_col = adata.obs[col].nunique()\n",
    "    for other_col in obs_cols:\n",
    "        if len(adata.obs[[col, other_col]].drop_duplicates()) == nunique_in_col:\n",
    "            one_to_one_mapped_obs_cols.append(other_col)\n",
    "\n",
    "    joining_df = adata.obs[[col] + one_to_one_mapped_obs_cols].drop_duplicates().set_index(col)\n",
    "    assert (sum_adata.obs.index == sum_adata.obs.join(joining_df).index).all()\n",
    "    sum_adata.obs = sum_adata.obs.join(joining_df)\n",
    "    sum_adata.obs.index.name = col\n",
    "    sum_adata.obs = sum_adata.obs.reset_index()\n",
    "    sum_adata.obs.index = sum_adata.obs.index.astype('str')\n",
    "\n",
    "    return sum_adata"
   ]
  },
  {
   "cell_type": "code",
   "execution_count": null,
   "id": "a8c6764a-ac6b-4075-8290-480ce42edcda",
   "metadata": {
    "tags": []
   },
   "outputs": [],
   "source": [
    "counts_adata.obs['plate_well_cell_type'] = counts_adata.obs['plate_name'].astype('str') \\\n",
    "    + '_' + counts_adata.obs['well'].astype('str') \\\n",
    "    + '_' + counts_adata.obs['cell_type'].astype('str')\n",
    "counts_adata.obs['plate_well_cell_type'] = counts_adata.obs['plate_well_cell_type'].astype('category')\n",
    "\n",
    "bulk_adata = sum_by(counts_adata, 'plate_well_cell_type')\n",
    "bulk_adata.obs = bulk_adata.obs.drop(columns=['plate_well_cell_type'])\n",
    "bulk_adata.X = np.array(bulk_adata.X.todense())\n",
    "bulk_adata.X = bulk_adata.X.astype('float64')\n",
    "bulk_adata = bulk_adata.copy()"
   ]
  },
  {
   "cell_type": "code",
   "execution_count": null,
   "id": "f153fd32-8881-422e-a14f-d424ac499956",
   "metadata": {
    "tags": []
   },
   "outputs": [],
   "source": [
    "plate_reordering = {\n",
    "    'plate_0': 'plate_1',\n",
    "    'plate_1': 'plate_2',\n",
    "    'plate_2': 'plate_3',\n",
    "    'plate_3': 'plate_0',\n",
    "    'plate_4': 'plate_4',\n",
    "    'plate_5': 'plate_5',\n",
    "}"
   ]
  },
  {
   "cell_type": "markdown",
   "id": "6005bd17-759f-455d-a6e6-5467d48b3348",
   "metadata": {},
   "source": [
    "## Loading pseudobulked counts from correctly filtered AnnData (@Daniel: delete this section once the fixed RNA expression AnnData is uploaded to Kaggle)"
   ]
  },
  {
   "cell_type": "code",
   "execution_count": null,
   "id": "375e0d5c-4ab8-482d-b564-dd2e8501bce0",
   "metadata": {
    "tags": []
   },
   "outputs": [],
   "source": [
    "fixed_bulk_adata = sc.read_h5ad('train_or_control_bulk_by_cell_type_adata.h5ad')\n",
    "fixed_bulk_adata.X = fixed_bulk_adata.layers['counts']"
   ]
  },
  {
   "cell_type": "code",
   "execution_count": null,
   "id": "50901405-846f-461a-a8d8-0f2d93972e88",
   "metadata": {
    "tags": []
   },
   "outputs": [],
   "source": [
    "new_plate_names = bulk_adata.obs['plate_name'].sort_values().unique()\n",
    "original_plate_names = fixed_bulk_adata.obs['plate_name'].sort_values().unique()\n",
    "plate_name_map = dict(zip(original_plate_names, new_plate_names))\n",
    "\n",
    "fixed_bulk_adata.obs['plate_name'] = fixed_bulk_adata.obs['plate_name'].map(plate_name_map)\n",
    "fixed_bulk_adata.obs['plate_name'] = fixed_bulk_adata.obs['plate_name'].map(plate_reordering)"
   ]
  },
  {
   "cell_type": "code",
   "execution_count": null,
   "id": "96c66380-9539-4069-8ea2-29c9c06555f0",
   "metadata": {
    "tags": []
   },
   "outputs": [],
   "source": [
    "new_donor_ids = bulk_adata.obs['donor_id'].sort_values().unique()\n",
    "original_donor_ids = fixed_bulk_adata.obs['raw_cell_id'].sort_values().unique()\n",
    "donor_id_map = dict(zip(original_donor_ids, new_donor_ids))\n",
    "\n",
    "fixed_bulk_adata.obs['donor_id'] = fixed_bulk_adata.obs['raw_cell_id'].map(donor_id_map)"
   ]
  },
  {
   "cell_type": "code",
   "execution_count": null,
   "id": "bc2ac7a5-110d-4d46-88bc-deebf6b45d49",
   "metadata": {
    "tags": []
   },
   "outputs": [],
   "source": [
    "lincs_id_mapping_df = pd.read_parquet('lincs_id_compound_mapping.parquet')"
   ]
  },
  {
   "cell_type": "code",
   "execution_count": null,
   "id": "7423f1d3-8251-4980-822e-2724fb025aef",
   "metadata": {
    "tags": []
   },
   "outputs": [],
   "source": [
    "compound_id_to_sm_lincs_id = lincs_id_mapping_df.set_index('compound_id')['sm_lincs_id'].to_dict()\n",
    "compound_id_to_sm_name = lincs_id_mapping_df.set_index('compound_id')['sm_name'].to_dict()\n",
    "compound_id_to_smiles = lincs_id_mapping_df.set_index('compound_id')['smiles'].to_dict()\n",
    "\n",
    "fixed_bulk_adata.obs['sm_lincs_id'] = \\\n",
    "    fixed_bulk_adata.obs['compound_id'].map(compound_id_to_sm_lincs_id)\n",
    "fixed_bulk_adata.obs['sm_name'] = \\\n",
    "    fixed_bulk_adata.obs['compound_id'].map(compound_id_to_sm_name)\n",
    "fixed_bulk_adata.obs['SMILES'] = \\\n",
    "    fixed_bulk_adata.obs['compound_id'].map(compound_id_to_smiles)"
   ]
  },
  {
   "cell_type": "code",
   "execution_count": null,
   "id": "d8509799-441f-40e0-bda5-c5d901338b3f",
   "metadata": {
    "tags": []
   },
   "outputs": [],
   "source": [
    "sorted_index = fixed_bulk_adata.obs.sort_values(['plate_name', 'sm_name', 'cell_type']).index\n",
    "fixed_bulk_adata = fixed_bulk_adata[sorted_index].copy()"
   ]
  },
  {
   "cell_type": "code",
   "execution_count": null,
   "id": "7a50796b-42ab-44c6-8aae-8ed108a07654",
   "metadata": {
    "tags": []
   },
   "outputs": [],
   "source": [
    "sorted_index = bulk_adata.obs.sort_values(['plate_name', 'sm_name', 'cell_type']).index\n",
    "bulk_adata = bulk_adata[sorted_index].copy()"
   ]
  },
  {
   "cell_type": "markdown",
   "id": "86e77749-92c8-45ed-8cca-a651bfafaac2",
   "metadata": {},
   "source": [
    "If the new expression data is uploaded to Kaggle (or placed in `'/home/jovyan/kaggle/input/open-problems-multimodal-2023'` in the correct format), the assertion below should evaluate to True."
   ]
  },
  {
   "cell_type": "code",
   "execution_count": null,
   "id": "a2d69d82-7972-43f8-8614-ca2a7fd73ebe",
   "metadata": {
    "tags": []
   },
   "outputs": [],
   "source": [
    "bulk_adata.obs['plate_name'] = bulk_adata.obs['plate_name'].map(plate_reordering)"
   ]
  },
  {
   "cell_type": "code",
   "execution_count": null,
   "id": "c75ec7f1-492f-44fd-940c-f1bf9b23809e",
   "metadata": {
    "tags": []
   },
   "outputs": [],
   "source": [
    "# assert np.allclose(fixed_bulk_adata.X, bulk_adata.X)"
   ]
  },
  {
   "cell_type": "code",
   "execution_count": null,
   "id": "d1825f50-22ad-4161-8647-29f669f02666",
   "metadata": {
    "tags": []
   },
   "outputs": [],
   "source": [
    "bulk_adata = fixed_bulk_adata.copy()"
   ]
  },
  {
   "cell_type": "markdown",
   "id": "8bced2df-87ca-44c0-a769-4cc46d33ee66",
   "metadata": {},
   "source": [
    "## Running Limma"
   ]
  },
  {
   "cell_type": "code",
   "execution_count": null,
   "id": "b1e98c2a-73a8-4f9c-b0df-dcf2dd82f757",
   "metadata": {
    "tags": []
   },
   "outputs": [],
   "source": [
    "# bulk_adata.obs['plate_name'] = bulk_adata.obs['plate_name'].map(plate_reordering)"
   ]
  },
  {
   "cell_type": "code",
   "execution_count": null,
   "id": "ced9d15b-375a-4788-a85d-330fc8f45fb4",
   "metadata": {
    "tags": []
   },
   "outputs": [],
   "source": [
    "de_pert_cols = [\n",
    "    'sm_name',\n",
    "    'sm_lincs_id',\n",
    "    'SMILES',\n",
    "    'dose_uM',\n",
    "    'timepoint_hr',\n",
    "    'cell_type',\n",
    "]\n",
    "\n",
    "control_compound = 'Dimethyl Sulfoxide'"
   ]
  },
  {
   "cell_type": "code",
   "execution_count": null,
   "id": "4a2e4bec-d83f-4f64-8685-49d7a6136bb0",
   "metadata": {
    "tags": []
   },
   "outputs": [],
   "source": [
    "import limma_utils\n",
    "import imp\n",
    "imp.reload(limma_utils)\n"
   ]
  },
  {
   "cell_type": "code",
   "execution_count": null,
   "id": "a5fe7db4-45cc-4016-bad4-0f1c21575b23",
   "metadata": {
    "tags": []
   },
   "outputs": [],
   "source": [
    "!mkdir -p output"
   ]
  },
  {
   "cell_type": "code",
   "execution_count": null,
   "id": "fdbd5e73-7286-464c-a676-1ec89bbc43c0",
   "metadata": {
    "tags": []
   },
   "outputs": [],
   "source": [
    "def _run_limma_for_cell_type(bulk_adata):\n",
    "    import limma_utils\n",
    "    bulk_adata = bulk_adata.copy()\n",
    "    \n",
    "    compound_name_col = de_pert_cols[0]\n",
    "    \n",
    "    # limma doesn't like dashes etc. in the compound names\n",
    "    rpert_mapping = bulk_adata.obs[compound_name_col].drop_duplicates() \\\n",
    "        .reset_index(drop=True).reset_index() \\\n",
    "        .set_index(compound_name_col)['index'].to_dict()\n",
    "    \n",
    "    bulk_adata.obs['Rpert'] = bulk_adata.obs.apply(\n",
    "        lambda row: rpert_mapping[row[compound_name_col]], \n",
    "        axis='columns',\n",
    "    ).astype('str')\n",
    "\n",
    "    compound_name_to_Rpert = bulk_adata.obs.set_index(compound_name_col)['Rpert'].to_dict()\n",
    "    ref_pert = compound_name_to_Rpert[control_compound]\n",
    "            \n",
    "    random_string = binascii.b2a_hex(os.urandom(15)).decode()\n",
    "    \n",
    "    \n",
    "    limma_utils.limma_fit(\n",
    "        bulk_adata, \n",
    "        design='~0+Rpert+donor_id+plate_name+row',\n",
    "        output_path=f'output/{random_string}_limma.rds',\n",
    "        plot_output_path=f'output/{random_string}_voom',\n",
    "        exec_path='limma_fit.r',\n",
    "        verbose=True,\n",
    "    )\n",
    "\n",
    "    pert_de_dfs = []\n",
    "    \n",
    "\n",
    "\n",
    "    for pert in bulk_adata.obs['Rpert'].unique():\n",
    "        if pert == ref_pert:\n",
    "            continue\n",
    "\n",
    "        pert_de_df = limma_utils.limma_contrast(\n",
    "            fit_path=f'output/{random_string}_limma.rds',\n",
    "            contrast='Rpert'+pert+'-Rpert'+ref_pert,\n",
    "            exec_path='limma_contrast.r',\n",
    "        )\n",
    "\n",
    "        pert_de_df['Rpert'] = pert\n",
    "\n",
    "        pert_obs = bulk_adata.obs[bulk_adata.obs['Rpert'].eq(pert)]\n",
    "        for col in de_pert_cols:\n",
    "            pert_de_df[col] = pert_obs[col].unique()[0]\n",
    "        pert_de_dfs.append(pert_de_df)\n",
    "\n",
    "    de_df = pd.concat(pert_de_dfs, axis=0)\n",
    "\n",
    "    try:\n",
    "        os.remove(f'output/{random_string}_limma.rds')\n",
    "        os.remove(f'output/{random_string}_voom')\n",
    "    except FileNotFoundError:\n",
    "        pass\n",
    "    \n",
    "    return de_df\n",
    "\n",
    "run_limma_for_cell_type = delayed(_run_limma_for_cell_type)"
   ]
  },
  {
   "cell_type": "code",
   "execution_count": null,
   "id": "f787ab21-5919-4bfc-9783-2894ac7e9f9d",
   "metadata": {
    "tags": []
   },
   "outputs": [],
   "source": [
    "%%capture\n",
    "\n",
    "cluster = LocalCluster(\n",
    "    n_workers=6,\n",
    "    processes=True,\n",
    "    threads_per_worker=1,\n",
    "    memory_limit='20GB',\n",
    ")\n",
    "\n",
    "c = Client(cluster)"
   ]
  },
  {
   "cell_type": "code",
   "execution_count": null,
   "id": "131333f5-c387-4876-8e76-2ffbfb975990",
   "metadata": {
    "tags": []
   },
   "outputs": [],
   "source": [
    "%%capture\n",
    "\n",
    "cell_types = bulk_adata.obs['cell_type'].unique()\n",
    "de_dfs = []\n",
    "\n",
    "for cell_type in cell_types:\n",
    "    cell_type_selection = bulk_adata.obs['cell_type'].eq(cell_type)\n",
    "    cell_type_bulk_adata = bulk_adata[cell_type_selection].copy()\n",
    "    \n",
    "    de_df = run_limma_for_cell_type(cell_type_bulk_adata)\n",
    "    \n",
    "    de_dfs.append(de_df)\n",
    "\n",
    "de_dfs = c.compute(de_dfs, sync=True)\n",
    "de_df = pd.concat(de_dfs)"
   ]
  },
  {
   "cell_type": "markdown",
   "id": "85dc7d4f-a80c-4410-a2a8-7a09f92383a0",
   "metadata": {},
   "source": [
    "## Converting DataFrame to Anndata"
   ]
  },
  {
   "cell_type": "code",
   "execution_count": null,
   "id": "007cdaaf-023a-49f1-a26d-9c4085817169",
   "metadata": {
    "tags": []
   },
   "outputs": [],
   "source": [
    "def convert_de_df_to_anndata(de_df, pert_cols, de_sig_cutoff):\n",
    "    de_df = de_df.copy()\n",
    "    zero_pval_selection = de_df['P.Value'].eq(0)\n",
    "    de_df.loc[zero_pval_selection, 'P.Value'] = np.finfo(np.float64).eps\n",
    "\n",
    "    de_df['sign_log10_pval'] = np.sign(de_df['logFC']) * -np.log10(de_df['P.Value'])\n",
    "    de_df['is_de'] = de_df['P.Value'].lt(de_sig_cutoff)\n",
    "    de_df['is_de_adj'] = de_df['adj.P.Val'].lt(de_sig_cutoff)\n",
    "\n",
    "    de_feature_dfs = {}\n",
    "    for feature in ['is_de', 'is_de_adj', 'sign_log10_pval', 'logFC', 'P.Value', 'adj.P.Val']:\n",
    "        df = de_df.reset_index().pivot_table(\n",
    "            index=['gene'], \n",
    "            columns=pert_cols,\n",
    "            values=[feature],\n",
    "            dropna=True,\n",
    "        )\n",
    "        de_feature_dfs[feature] = df\n",
    "\n",
    "    de_adata = ad.AnnData(de_feature_dfs['sign_log10_pval'].T, dtype=np.float64)\n",
    "    de_adata.obs = de_adata.obs.reset_index()\n",
    "    de_adata.obs = de_adata.obs.drop(columns=['level_0'])\n",
    "    de_adata.obs.index = de_adata.obs.index.astype('string')\n",
    "\n",
    "    de_adata.layers['is_de'] = de_feature_dfs['is_de'].to_numpy().T\n",
    "    de_adata.layers['is_de_adj'] = de_feature_dfs['is_de_adj'].to_numpy().T\n",
    "    de_adata.layers['logFC'] = de_feature_dfs['logFC'].to_numpy().T\n",
    "    de_adata.layers['P.Value'] = de_feature_dfs['P.Value'].to_numpy().T\n",
    "    de_adata.layers['adj.P.Val'] = de_feature_dfs['adj.P.Val'].to_numpy().T\n",
    "    \n",
    "    return de_adata"
   ]
  },
  {
   "cell_type": "code",
   "execution_count": null,
   "id": "d4e56177-fd82-4939-b65a-f9b8ee2477ae",
   "metadata": {
    "tags": []
   },
   "outputs": [],
   "source": [
    "de_adata = convert_de_df_to_anndata(de_df, de_pert_cols, 0.05)"
   ]
  },
  {
   "cell_type": "code",
   "execution_count": null,
   "id": "8af61641-a509-4763-9113-4dc7f8e4cdd9",
   "metadata": {
    "tags": []
   },
   "outputs": [],
   "source": [
    "bulk_adata.obs"
   ]
  },
  {
   "cell_type": "code",
   "execution_count": null,
   "id": "7dd6b802-9b90-49f9-a8b7-6a7e7cb8de49",
   "metadata": {
    "tags": []
   },
   "outputs": [],
   "source": [
    "kaggle_train_de_df = pd.read_parquet(os.path.join(data_dir, 'de_train.parquet'))\n",
    "kaggle_train_de_df = kaggle_train_de_df.set_index(list(kaggle_train_de_df.columns[:5]))\n",
    "\n",
    "kaggle_train_de_adata = ad.AnnData(kaggle_train_de_df)\n",
    "kaggle_train_de_adata.obs = kaggle_train_de_adata.obs.reset_index()\n",
    "kaggle_train_de_adata.obs.index = kaggle_train_de_adata.obs.index.astype('str')"
   ]
  },
  {
   "cell_type": "code",
   "execution_count": null,
   "id": "93497294-16b5-4d25-9e5b-43fc33663067",
   "metadata": {
    "tags": []
   },
   "outputs": [],
   "source": [
    "sorting_index = kaggle_train_de_adata.obs.sort_values(['sm_name', 'cell_type']).index\n",
    "kaggle_train_de_adata = kaggle_train_de_adata[sorting_index].copy()"
   ]
  },
  {
   "cell_type": "code",
   "execution_count": null,
   "id": "f407c90f-f01f-43dd-b90b-b1a28dc7ab87",
   "metadata": {
    "tags": []
   },
   "outputs": [],
   "source": [
    "de_adata.obs.index = de_adata.obs.index.astype('str')\n",
    "\n",
    "sorting_index = de_adata.obs.sort_values(['sm_name', 'cell_type']).index\n",
    "de_adata = de_adata[sorting_index].copy()"
   ]
  },
  {
   "cell_type": "code",
   "execution_count": null,
   "id": "a466cafe-d6c9-4581-aeac-f968d7c5becd",
   "metadata": {
    "tags": []
   },
   "outputs": [],
   "source": [
    "de_adata.obs"
   ]
  },
  {
   "cell_type": "code",
   "execution_count": null,
   "id": "0ed896e0-8ef2-4b42-b1e7-508a6317b1b9",
   "metadata": {
    "tags": []
   },
   "outputs": [],
   "source": [
    "kaggle_train_de_adata"
   ]
  },
  {
   "cell_type": "code",
   "execution_count": null,
   "id": "5b8bbf50-c043-48b9-a9b4-34819dc71556",
   "metadata": {
    "tags": []
   },
   "outputs": [],
   "source": [
    "(de_adata.var.index == kaggle_train_de_adata.var.index).all()"
   ]
  },
  {
   "cell_type": "code",
   "execution_count": null,
   "id": "c536e2a0-a65f-4795-b736-1f359a37ac2e",
   "metadata": {
    "tags": []
   },
   "outputs": [],
   "source": [
    "import seaborn as sns"
   ]
  },
  {
   "cell_type": "code",
   "execution_count": null,
   "id": "e6bf82dd-eb54-473d-9a0f-91d0e9e59695",
   "metadata": {
    "tags": []
   },
   "outputs": [],
   "source": [
    "sns.scatterplot(\n",
    "    x=kaggle_train_de_adata.X[100],\n",
    "    y=de_adata.X[100],\n",
    ")"
   ]
  }
 ],
 "metadata": {
  "kernelspec": {
   "display_name": "saturn (Python 3)",
   "language": "python",
   "name": "python3"
  },
  "language_info": {
   "codemirror_mode": {
    "name": "ipython",
    "version": 3
   },
   "file_extension": ".py",
   "mimetype": "text/x-python",
   "name": "python",
   "nbconvert_exporter": "python",
   "pygments_lexer": "ipython3",
   "version": "3.9.15"
  }
 },
 "nbformat": 4,
 "nbformat_minor": 5
}
